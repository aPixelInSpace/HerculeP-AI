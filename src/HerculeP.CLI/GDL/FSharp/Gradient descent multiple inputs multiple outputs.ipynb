{
 "cells": [
  {
   "cell_type": "code",
   "execution_count": 58,
   "metadata": {},
   "outputs": [],
   "source": [
    "let weights = [| \n",
    "                 [| 0.1; 0.1; -0.3 |];\n",
    "                 [| 0.1; 0.2; 0.0 |];\n",
    "                 [| 0.0; 1.3; 0.1 |]\n",
    "              |]"
   ]
  },
  {
   "cell_type": "code",
   "execution_count": 59,
   "metadata": {},
   "outputs": [],
   "source": [
    "let w_sum a b =\n",
    "    (0.0, a, b) |||> Seq.fold2 (fun state a b -> state + (a * b))"
   ]
  },
  {
   "cell_type": "code",
   "execution_count": 60,
   "metadata": {},
   "outputs": [],
   "source": [
    "let vect_mat_mul vector matrix =\n",
    "        matrix |> Seq.map(w_sum vector)"
   ]
  },
  {
   "cell_type": "code",
   "execution_count": 61,
   "metadata": {},
   "outputs": [],
   "source": [
    "let neural_network input weights =\n",
    "    let pred = vect_mat_mul input weights\n",
    "    pred"
   ]
  },
  {
   "cell_type": "code",
   "execution_count": 62,
   "metadata": {},
   "outputs": [],
   "source": [
    "let toes = [ 8.5; 9.5; 9.9; 9.0 ]\n",
    "let wlrec = [ 0.65; 0.8; 0.8; 0.9 ]\n",
    "let nfans = [ 1.2; 1.3; 0.5; 1.0 ]\n",
    "\n",
    "let hurt = [ 0.1; 0.0; 0.0; 0.1 ]\n",
    "let win = [ 1.0; 1.0; 0.0; 1.0 ]\n",
    "let sad = [ 0.1; 0.0; 0.1; 0.2 ]"
   ]
  },
  {
   "cell_type": "code",
   "execution_count": 63,
   "metadata": {},
   "outputs": [],
   "source": [
    "let alpha = 0.01"
   ]
  },
  {
   "cell_type": "code",
   "execution_count": 64,
   "metadata": {},
   "outputs": [],
   "source": [
    "let input = [ toes.[0]; wlrec.[0]; nfans.[0] ]\n",
    "let observations = [ hurt.[0]; win.[0]; sad.[0] ]"
   ]
  },
  {
   "cell_type": "code",
   "execution_count": 65,
   "metadata": {},
   "outputs": [],
   "source": [
    "let pred = neural_network input weights"
   ]
  },
  {
   "cell_type": "code",
   "execution_count": 66,
   "metadata": {},
   "outputs": [],
   "source": [
    "let deltas =\n",
    "    (pred, observations)\n",
    "    ||> Seq.map2(fun p o -> p - o)"
   ]
  },
  {
   "cell_type": "code",
   "execution_count": 67,
   "metadata": {},
   "outputs": [],
   "source": [
    "let errors = deltas |> Seq.map(fun d -> d ** 2.0)"
   ]
  },
  {
   "cell_type": "code",
   "execution_count": 68,
   "metadata": {},
   "outputs": [],
   "source": [
    "let ele_mul (n : float) vector =\n",
    "        vector\n",
    "        |> Seq.map(fun e -> e * n)\n",
    "        |> Seq.toArray"
   ]
  },
  {
   "cell_type": "code",
   "execution_count": 69,
   "metadata": {},
   "outputs": [],
   "source": [
    "let outer_prod vect_a vect_b =\n",
    "    vect_a \n",
    "    |> Seq.map(fun e -> ele_mul e vect_b)\n",
    "    |> Seq.toArray"
   ]
  },
  {
   "cell_type": "code",
   "execution_count": 70,
   "metadata": {},
   "outputs": [],
   "source": [
    "let weight_deltas = outer_prod input deltas"
   ]
  },
  {
   "cell_type": "code",
   "execution_count": 71,
   "metadata": {},
   "outputs": [],
   "source": [
    "let weightsForOneLine weights weight_deltas =\n",
    "    (weights, weight_deltas)\n",
    "    ||> Array.map2(fun w d -> w - (alpha * d))"
   ]
  },
  {
   "cell_type": "markdown",
   "metadata": {},
   "source": [
    "Update the weights line by line"
   ]
  },
  {
   "cell_type": "code",
   "execution_count": 72,
   "metadata": {},
   "outputs": [],
   "source": [
    "Array.blit\n",
    "    ((weights, weight_deltas) ||> Array.map2(weightsForOneLine)) 0\n",
    "    weights 0\n",
    "    weights.Length"
   ]
  },
  {
   "cell_type": "code",
   "execution_count": 73,
   "metadata": {},
   "outputs": [
    {
     "data": {
      "text/html": [
       "<table><thead><tr><th><i>index</i></th><th>value</th></tr></thead><tbody><tr><td>0</td><td><div class=\"dni-plaintext\">[ 0.061325, 0.1017, -0.373525 ]</div></td></tr><tr><td>1</td><td><div class=\"dni-plaintext\">[ 0.0970425, 0.20013, -0.005622500000000002 ]</div></td></tr><tr><td>2</td><td><div class=\"dni-plaintext\">[ -0.0054600000000000004, 1.30024, 0.08962 ]</div></td></tr></tbody></table>"
      ]
     },
     "execution_count": 73,
     "metadata": {},
     "output_type": "execute_result"
    }
   ],
   "source": [
    "weights"
   ]
  },
  {
   "cell_type": "code",
   "execution_count": null,
   "metadata": {},
   "outputs": [],
   "source": []
  }
 ],
 "metadata": {
  "kernelspec": {
   "display_name": ".NET (F#)",
   "language": "F#",
   "name": ".net-fsharp"
  },
  "language_info": {
   "file_extension": ".fs",
   "mimetype": "text/x-fsharp",
   "name": "F#",
   "pygments_lexer": "fsharp",
   "version": "5.0"
  }
 },
 "nbformat": 4,
 "nbformat_minor": 4
}
