{
 "cells": [
  {
   "cell_type": "code",
   "execution_count": 6,
   "metadata": {},
   "outputs": [
    {
     "name": "stdout",
     "output_type": "stream",
     "text": [
      "Error: seq [1.14869833f]; Prediction: seq [-0.1999999881]; Weights: seq [0.5199999809f; 0.4799999893f; -0.6800000072f]\n",
      "Error: seq [1.117287159f]; Prediction: seq [-0.1600000262]; Weights: seq [0.5360000134f; 0.4799999893f; -0.6640000343f]\n",
      "Error: seq [1.092777729f]; Prediction: seq [-0.128000021]; Weights: seq [0.5487999916f; 0.4799999893f; -0.6512000561f]\n",
      "Error: seq [1.073557973f]; Prediction: seq [-0.1024000645]; Weights: seq [0.55904001f; 0.4799999893f; -0.6409600377f]\n",
      "Error: seq [1.058425665f]; Prediction: seq [-0.08192002773]; Weights: seq [0.5672320127f; 0.4799999893f; -0.6327680349f]\n",
      "Error: seq [1.046473622f]; Prediction: seq [-0.06553602219]; Weights: seq [0.573785603f; 0.4799999893f; -0.6262144446f]\n",
      "Error: seq [1.037009358f]; Prediction: seq [-0.05242884159]; Weights: seq [0.5790284872f; 0.4799999893f; -0.6209715605f]\n",
      "Error: seq [1.029499412f]; Prediction: seq [-0.04194307327]; Weights: seq [0.5832228065f; 0.4799999893f; -0.6167772412f]\n",
      "Error: seq [1.023530722f]; Prediction: seq [-0.03355443478]; Weights: seq [0.5865782499f; 0.4799999893f; -0.6134217978f]\n",
      "Error: seq [1.018780708f]; Prediction: seq [-0.02684354782]; Weights: seq [0.5892626047f; 0.4799999893f; -0.610737443f]\n",
      "Error: seq [1.014996529f]; Prediction: seq [-0.02147483826]; Weights: seq [0.5914101005f; 0.4799999893f; -0.6085899472f]\n",
      "Error: seq [1.011979342f]; Prediction: seq [-0.01717984676]; Weights: seq [0.5931280851f; 0.4799999893f; -0.6068719625f]\n",
      "Error: seq [1.009572029f]; Prediction: seq [-0.01374387741]; Weights: seq [0.594502449f; 0.4799999893f; -0.6054975986f]\n",
      "Error: seq [1.007650375f]; Prediction: seq [-0.01099514961]; Weights: seq [0.5956019759f; 0.4799999893f; -0.6043980718f]\n",
      "Error: seq [1.006115556f]; Prediction: seq [-0.008796095848]; Weights: seq [0.5964815617f; 0.4799999893f; -0.603518486f]\n",
      "Error: seq [1.004889488f]; Prediction: seq [-0.007036924362]; Weights: seq [0.5971852541f; 0.4799999893f; -0.6028147936f]\n",
      "Error: seq [1.003909707f]; Prediction: seq [-0.00562953949]; Weights: seq [0.59774822f; 0.4799999893f; -0.6022518277f]\n",
      "Error: seq [1.003126502f]; Prediction: seq [-0.00450360775]; Weights: seq [0.5981985927f; 0.4799999893f; -0.601801455f]\n",
      "Error: seq [1.002500415f]; Prediction: seq [-0.003602862358]; Weights: seq [0.5985589027f; 0.4799999893f; -0.6014411449f]\n",
      "Error: seq [1.001999855f]; Prediction: seq [-0.002882242203]; Weights: seq [0.5988471508f; 0.4799999893f; -0.6011528969f]\n"
     ]
    }
   ],
   "source": [
    "#r \"nuget: NumSharp\"\n",
    "\n",
    "open NumSharp\n",
    "\n",
    "let streetlights =\n",
    "    np.array(\n",
    "        [|\n",
    "            [| 1.0f; 0.0f; 1.0f; |]\n",
    "            [| 0.0f; 1.0f; 1.0f; |]\n",
    "            [| 0.0f; 0.0f; 1.0f; |]\n",
    "            [| 1.0f; 1.0f; 1.0f; |]\n",
    "            [| 0.0f; 1.0f; 1.0f; |]\n",
    "            [| 1.0f; 0.0f; 1.0f; |]\n",
    "        |])\n",
    "\n",
    "let walk_vs_stop =\n",
    "    np.array(\n",
    "        [|\n",
    "            [| 0.0f |]\n",
    "            [| 1.0f |]\n",
    "            [| 0.0f |]\n",
    "            [| 1.0f |]\n",
    "            [| 1.0f |]\n",
    "            [| 0.0f |]\n",
    "        |])\n",
    "\n",
    "let alpha = 0.1\n",
    "\n",
    "let input = streetlights.[0]\n",
    "let observation = walk_vs_stop.[0]\n",
    "\n",
    "let mutable weights = np.array([| 0.5f; 0.48f; -0.7f |])\n",
    "\n",
    "for _ in 1 .. 20 do\n",
    "    let pred = input.dot(&weights)\n",
    "    let deltaError = observation - pred\n",
    "    let error = np.exp2(&deltaError)\n",
    "    \n",
    "    let delta = pred - observation\n",
    "    weights.ReplaceData(weights - (alpha * (input * delta)))\n",
    "    \n",
    "    printfn \"Error: %A; Prediction: %A; Weights: %A\" error pred weights"
   ]
  },
  {
   "cell_type": "code",
   "execution_count": null,
   "metadata": {},
   "outputs": [],
   "source": []
  }
 ],
 "metadata": {
  "kernelspec": {
   "display_name": ".NET (F#)",
   "language": "F#",
   "name": ".net-fsharp"
  },
  "language_info": {
   "file_extension": ".fs",
   "mimetype": "text/x-fsharp",
   "name": "F#",
   "pygments_lexer": "fsharp",
   "version": "5.0"
  }
 },
 "nbformat": 4,
 "nbformat_minor": 4
}
